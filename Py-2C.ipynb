{
 "cells": [
  {
   "cell_type": "markdown",
   "id": "e23404c3-b94f-4b0a-bf1f-e47b77516b58",
   "metadata": {},
   "source": [
    "# Part 2c - Logistic regression model for the probability of diverted US flights"
   ]
  },
  {
   "cell_type": "code",
   "execution_count": 2,
   "id": "429417c2-8481-4d6c-960e-885f437fc0bb",
   "metadata": {},
   "outputs": [],
   "source": [
    "#imports\n",
    "import pandas as pd\n",
    "import numpy as np\n",
    "from sklearn import preprocessing\n",
    "from sklearn.preprocessing import StandardScaler\n",
    "from sklearn.linear_model import LogisticRegression\n",
    "from sklearn.model_selection import train_test_split\n",
    "from sklearn.metrics import accuracy_score\n",
    "from sklearn.metrics import classification_report, confusion_matrix\n",
    "import matplotlib.pyplot as plt \n",
    "import seaborn as sns\n",
    "plt.rc(\"font\", size=14)"
   ]
  },
  {
   "cell_type": "markdown",
   "id": "745c06c3-c003-479b-ae97-5e81b856d5f9",
   "metadata": {},
   "source": [
    "### The Data"
   ]
  },
  {
   "cell_type": "code",
   "execution_count": 4,
   "id": "123326c8-e8a3-4965-8391-8589e5f3ecf3",
   "metadata": {},
   "outputs": [
    {
     "name": "stderr",
     "output_type": "stream",
     "text": [
      "/var/folders/kz/gkr3vj392y93zt9m0pdb0cr40000gn/T/ipykernel_95413/3445128161.py:2: DtypeWarning: Columns (22) have mixed types. Specify dtype option on import or set low_memory=False.\n",
      "  df = pd.concat([pd.read_csv(f\"dataset/{year}.csv\", encoding='latin-1') for year in range(1995,2005)])\n"
     ]
    }
   ],
   "source": [
    "#reading and joining the year csv to create one large dataframe\n",
    "df = pd.concat([pd.read_csv(f\"dataset/{year}.csv\", encoding='latin-1') for year in range(1995,2005)])"
   ]
  },
  {
   "cell_type": "code",
   "execution_count": 5,
   "id": "f9fa76cb-3b07-40d9-9caa-7f81cd2c8c08",
   "metadata": {},
   "outputs": [],
   "source": [
    "planes = pd.read_csv(\"dataset/plane-data.csv\")\n",
    "airports = pd.read_csv(\"dataset/airports.csv\")\n",
    "carriers = pd.read_csv(\"dataset/carriers.csv\")"
   ]
  },
  {
   "cell_type": "code",
   "execution_count": 6,
   "id": "b89e6942-5900-42e4-ad77-c4a8f9c8a0cf",
   "metadata": {},
   "outputs": [
    {
     "data": {
      "text/plain": [
       "Index(['Year', 'Month', 'DayofMonth', 'DayOfWeek', 'DepTime', 'CRSDepTime',\n",
       "       'ArrTime', 'CRSArrTime', 'UniqueCarrier', 'FlightNum', 'TailNum',\n",
       "       'ActualElapsedTime', 'CRSElapsedTime', 'AirTime', 'ArrDelay',\n",
       "       'DepDelay', 'Origin', 'Dest', 'Distance', 'TaxiIn', 'TaxiOut',\n",
       "       'Cancelled', 'CancellationCode', 'Diverted', 'CarrierDelay',\n",
       "       'WeatherDelay', 'NASDelay', 'SecurityDelay', 'LateAircraftDelay'],\n",
       "      dtype='object')"
      ]
     },
     "execution_count": 6,
     "metadata": {},
     "output_type": "execute_result"
    }
   ],
   "source": [
    "df.columns"
   ]
  },
  {
   "cell_type": "markdown",
   "id": "477bc38e-86bd-4637-805f-9b1f0729b1df",
   "metadata": {},
   "source": [
    "#### Input Variables\n",
    "- Month (Categorical: 'Spring', 'Summer' etc) [Congestion]\n",
    "- DayOfWeek (Categorical: 'Mon', 'Tue', 'Wed' etc) [Congestion]\n",
    "- TimeOfDay (Categorical: 'Late Night', 'Early Morning' etc) [Congestion]\n",
    "- Distance (Numerical: miles) [Fuel Considerations]\n",
    "- CarrierDelayRate (Numerical: percentage) [Airline Issues]\n",
    "- AirportDelayRate (Numerical: percentage) [Airport Issues]\n",
    "\n",
    "#### Output Variable\n",
    "- y: Diverted Plane (Binary: 0/1)\n",
    "\n",
    "**Variables to Keep:**\n",
    "- Month\n",
    "- DayOfWeek\n",
    "- CRSDepTime\n",
    "- DepDelay (calculate rates)\n",
    "- UniqueCarrier (to link with Carrier to get Airline name)\n",
    "- Origin (to link with Airports to get Airport name)\n",
    "- Distance"
   ]
  },
  {
   "cell_type": "markdown",
   "id": "cadb9763-615e-4e6c-8073-15df9d4657da",
   "metadata": {},
   "source": [
    "### Pre-processing"
   ]
  },
  {
   "cell_type": "code",
   "execution_count": 9,
   "id": "6c981930-12cd-487f-8c89-5a0bf5c82fb7",
   "metadata": {},
   "outputs": [],
   "source": [
    "df = df[['Year','Diverted','Month','DayofMonth','DayOfWeek','CRSDepTime','DepDelay','UniqueCarrier','Origin','Distance']]"
   ]
  },
  {
   "cell_type": "markdown",
   "id": "cea81143-3b97-44c6-91bf-4a61538d3f0a",
   "metadata": {},
   "source": [
    "##### Data types"
   ]
  },
  {
   "cell_type": "code",
   "execution_count": 11,
   "id": "4fe5ec30-d498-43e1-8b52-13edec1222c8",
   "metadata": {},
   "outputs": [
    {
     "data": {
      "text/html": [
       "<div>\n",
       "<style scoped>\n",
       "    .dataframe tbody tr th:only-of-type {\n",
       "        vertical-align: middle;\n",
       "    }\n",
       "\n",
       "    .dataframe tbody tr th {\n",
       "        vertical-align: top;\n",
       "    }\n",
       "\n",
       "    .dataframe thead th {\n",
       "        text-align: right;\n",
       "    }\n",
       "</style>\n",
       "<table border=\"1\" class=\"dataframe\">\n",
       "  <thead>\n",
       "    <tr style=\"text-align: right;\">\n",
       "      <th></th>\n",
       "      <th>Year</th>\n",
       "      <th>Diverted</th>\n",
       "      <th>Month</th>\n",
       "      <th>DayofMonth</th>\n",
       "      <th>DayOfWeek</th>\n",
       "      <th>CRSDepTime</th>\n",
       "      <th>DepDelay</th>\n",
       "      <th>UniqueCarrier</th>\n",
       "      <th>Origin</th>\n",
       "      <th>Distance</th>\n",
       "    </tr>\n",
       "  </thead>\n",
       "  <tbody>\n",
       "    <tr>\n",
       "      <th>0</th>\n",
       "      <td>1995</td>\n",
       "      <td>0</td>\n",
       "      <td>1</td>\n",
       "      <td>6</td>\n",
       "      <td>5</td>\n",
       "      <td>645</td>\n",
       "      <td>12.0</td>\n",
       "      <td>UA</td>\n",
       "      <td>ORD</td>\n",
       "      <td>678.0</td>\n",
       "    </tr>\n",
       "    <tr>\n",
       "      <th>1</th>\n",
       "      <td>1995</td>\n",
       "      <td>0</td>\n",
       "      <td>1</td>\n",
       "      <td>7</td>\n",
       "      <td>6</td>\n",
       "      <td>645</td>\n",
       "      <td>3.0</td>\n",
       "      <td>UA</td>\n",
       "      <td>ORD</td>\n",
       "      <td>678.0</td>\n",
       "    </tr>\n",
       "    <tr>\n",
       "      <th>2</th>\n",
       "      <td>1995</td>\n",
       "      <td>0</td>\n",
       "      <td>1</td>\n",
       "      <td>8</td>\n",
       "      <td>7</td>\n",
       "      <td>645</td>\n",
       "      <td>4.0</td>\n",
       "      <td>UA</td>\n",
       "      <td>ORD</td>\n",
       "      <td>678.0</td>\n",
       "    </tr>\n",
       "    <tr>\n",
       "      <th>3</th>\n",
       "      <td>1995</td>\n",
       "      <td>0</td>\n",
       "      <td>1</td>\n",
       "      <td>9</td>\n",
       "      <td>1</td>\n",
       "      <td>645</td>\n",
       "      <td>0.0</td>\n",
       "      <td>UA</td>\n",
       "      <td>ORD</td>\n",
       "      <td>678.0</td>\n",
       "    </tr>\n",
       "    <tr>\n",
       "      <th>4</th>\n",
       "      <td>1995</td>\n",
       "      <td>0</td>\n",
       "      <td>1</td>\n",
       "      <td>10</td>\n",
       "      <td>2</td>\n",
       "      <td>645</td>\n",
       "      <td>0.0</td>\n",
       "      <td>UA</td>\n",
       "      <td>ORD</td>\n",
       "      <td>678.0</td>\n",
       "    </tr>\n",
       "  </tbody>\n",
       "</table>\n",
       "</div>"
      ],
      "text/plain": [
       "   Year  Diverted  Month  DayofMonth  DayOfWeek  CRSDepTime  DepDelay  \\\n",
       "0  1995         0      1           6          5         645      12.0   \n",
       "1  1995         0      1           7          6         645       3.0   \n",
       "2  1995         0      1           8          7         645       4.0   \n",
       "3  1995         0      1           9          1         645       0.0   \n",
       "4  1995         0      1          10          2         645       0.0   \n",
       "\n",
       "  UniqueCarrier Origin  Distance  \n",
       "0            UA    ORD     678.0  \n",
       "1            UA    ORD     678.0  \n",
       "2            UA    ORD     678.0  \n",
       "3            UA    ORD     678.0  \n",
       "4            UA    ORD     678.0  "
      ]
     },
     "execution_count": 11,
     "metadata": {},
     "output_type": "execute_result"
    }
   ],
   "source": [
    "df.head()"
   ]
  },
  {
   "cell_type": "code",
   "execution_count": 12,
   "id": "7fd684d9-a9c7-4c53-ae56-1335de27151e",
   "metadata": {},
   "outputs": [
    {
     "name": "stdout",
     "output_type": "stream",
     "text": [
      "<class 'pandas.core.frame.DataFrame'>\n",
      "Index: 57543862 entries, 0 to 7129269\n",
      "Data columns (total 10 columns):\n",
      " #   Column         Dtype  \n",
      "---  ------         -----  \n",
      " 0   Year           int64  \n",
      " 1   Diverted       int64  \n",
      " 2   Month          int64  \n",
      " 3   DayofMonth     int64  \n",
      " 4   DayOfWeek      int64  \n",
      " 5   CRSDepTime     int64  \n",
      " 6   DepDelay       float64\n",
      " 7   UniqueCarrier  object \n",
      " 8   Origin         object \n",
      " 9   Distance       float64\n",
      "dtypes: float64(2), int64(6), object(2)\n",
      "memory usage: 4.7+ GB\n"
     ]
    }
   ],
   "source": [
    "df.info()"
   ]
  },
  {
   "cell_type": "markdown",
   "id": "488fb0e9-a5b0-42dd-afdc-92d17f98c213",
   "metadata": {},
   "source": [
    "##### Missing Data"
   ]
  },
  {
   "cell_type": "code",
   "execution_count": 14,
   "id": "86dca43a-56d8-4d1f-a0f4-26b443d5718d",
   "metadata": {},
   "outputs": [
    {
     "data": {
      "text/plain": [
       "Year                   0\n",
       "Diverted               0\n",
       "Month                  0\n",
       "DayofMonth             0\n",
       "DayOfWeek              0\n",
       "CRSDepTime             0\n",
       "DepDelay         1330081\n",
       "UniqueCarrier          0\n",
       "Origin                 0\n",
       "Distance            5987\n",
       "dtype: int64"
      ]
     },
     "execution_count": 14,
     "metadata": {},
     "output_type": "execute_result"
    }
   ],
   "source": [
    "df.isna().sum()"
   ]
  },
  {
   "cell_type": "code",
   "execution_count": 15,
   "id": "c2ccfde5-c55d-4da6-bb04-d9dd3331f0c3",
   "metadata": {},
   "outputs": [
    {
     "data": {
      "text/plain": [
       "Year             0\n",
       "Diverted         0\n",
       "Month            0\n",
       "DayofMonth       0\n",
       "DayOfWeek        0\n",
       "CRSDepTime       0\n",
       "DepDelay         0\n",
       "UniqueCarrier    0\n",
       "Origin           0\n",
       "Distance         0\n",
       "dtype: int64"
      ]
     },
     "execution_count": 15,
     "metadata": {},
     "output_type": "execute_result"
    }
   ],
   "source": [
    "df = df.dropna()\n",
    "df.isna().sum()"
   ]
  },
  {
   "cell_type": "markdown",
   "id": "3235dc75-82c4-48f5-94d0-16c423958d67",
   "metadata": {},
   "source": [
    "##### New Columns"
   ]
  },
  {
   "cell_type": "code",
   "execution_count": 17,
   "id": "321e0036-e90c-434e-8bf3-63f6b23ab2fe",
   "metadata": {},
   "outputs": [],
   "source": [
    "df['Hour'] = df['CRSDepTime'] // 100\n",
    "df[df['Hour']==24] = 0"
   ]
  },
  {
   "cell_type": "code",
   "execution_count": 18,
   "id": "168a5bb0-6f79-43c2-a174-85690f9e506a",
   "metadata": {},
   "outputs": [],
   "source": [
    "#Carrier Delay Rate\n",
    "rates = []\n",
    "airlines = []\n",
    "for code in df['UniqueCarrier'].unique():\n",
    "    cond1 = df['DepDelay'] > 0\n",
    "    cond2 = df['UniqueCarrier'] == code\n",
    "\n",
    "    rate = round(len(df[cond1 & cond2])/len(df[cond2]),3)\n",
    "\n",
    "    rates.append(rate)\n",
    "    airlines.append(code)\n",
    "\n",
    "AirlineRates = pd.DataFrame()\n",
    "AirlineRates['UniqueCarrier'] = airlines\n",
    "AirlineRates['CarrierDelayRate'] = rates\n",
    "\n",
    "df = pd.merge(df,AirlineRates,on='UniqueCarrier', how='left')\n",
    "del(rates, airlines, cond1, cond2, rate, AirlineRates)"
   ]
  },
  {
   "cell_type": "code",
   "execution_count": 19,
   "id": "6542e003-87b9-4d11-aa8a-a71562a5f7a0",
   "metadata": {},
   "outputs": [],
   "source": [
    "#Airport Delay Rate\n",
    "rates = []\n",
    "airports = []\n",
    "\n",
    "for code in df['Origin'].unique():\n",
    "    cond1 = df['DepDelay'] > 0\n",
    "    cond2 = df['Origin'] == code\n",
    "\n",
    "    rate = round(len(df[cond1 & cond2])/len(df[cond2]),3)\n",
    "\n",
    "    rates.append(rate)\n",
    "    airports.append(code)\n",
    "\n",
    "AirportRates = pd.DataFrame()\n",
    "AirportRates['Origin'] = airports\n",
    "AirportRates['AirportDelayRate'] = rates\n",
    "\n",
    "df = pd.merge(df,AirportRates,on='Origin', how='left')\n",
    "del(rates, airports, cond1, cond2, rate, AirportRates)"
   ]
  },
  {
   "cell_type": "code",
   "execution_count": 20,
   "id": "019b0e7b-d1f5-4963-92e4-f42b9d23aa5b",
   "metadata": {},
   "outputs": [
    {
     "name": "stdout",
     "output_type": "stream",
     "text": [
      "<class 'pandas.core.frame.DataFrame'>\n",
      "RangeIndex: 56207870 entries, 0 to 56207869\n",
      "Data columns (total 13 columns):\n",
      " #   Column            Dtype  \n",
      "---  ------            -----  \n",
      " 0   Year              int64  \n",
      " 1   Diverted          int64  \n",
      " 2   Month             int64  \n",
      " 3   DayofMonth        int64  \n",
      " 4   DayOfWeek         int64  \n",
      " 5   CRSDepTime        int64  \n",
      " 6   DepDelay          float64\n",
      " 7   UniqueCarrier     object \n",
      " 8   Origin            object \n",
      " 9   Distance          float64\n",
      " 10  Hour              int64  \n",
      " 11  CarrierDelayRate  float64\n",
      " 12  AirportDelayRate  float64\n",
      "dtypes: float64(4), int64(7), object(2)\n",
      "memory usage: 5.4+ GB\n"
     ]
    }
   ],
   "source": [
    "df.info()"
   ]
  },
  {
   "cell_type": "code",
   "execution_count": 21,
   "id": "33fe97ea-ed41-4a67-8fb6-18489712ad4d",
   "metadata": {},
   "outputs": [],
   "source": [
    "df['Diverted'] = df['Diverted'].astype('category')\n",
    "data = df[['Year','Diverted','Month','DayofMonth','DayOfWeek','Hour','Distance','CarrierDelayRate','AirportDelayRate']]"
   ]
  },
  {
   "cell_type": "markdown",
   "id": "b97424b2-65c1-4433-aae3-f5661470779f",
   "metadata": {},
   "source": [
    "### Logistic Regression"
   ]
  },
  {
   "cell_type": "code",
   "execution_count": 188,
   "id": "14e7557a-5302-4488-b52a-5ad427730ab3",
   "metadata": {},
   "outputs": [],
   "source": [
    "def LogReg(df):\n",
    "    #target variable and predictors\n",
    "    y = df['Diverted']\n",
    "    X = df.drop(['Diverted','Year'], axis = 1)\n",
    "\n",
    "    #normalising data\n",
    "    scaler = StandardScaler()\n",
    "    X_scaled = scaler.fit_transform(X)\n",
    "\n",
    "    #split data\n",
    "    X_train, X_test, y_train, y_test = train_test_split(X_scaled, y, test_size=0.20, random_state=1)\n",
    "\n",
    "    #train model\n",
    "    lr = LogisticRegression(class_weight='balanced', random_state=1)\n",
    "    lr.fit(X_train, y_train)\n",
    "    y_predictions = lr.predict(X_test)\n",
    "\n",
    "    #return model\n",
    "    return lr, lr.coef_[0]"
   ]
  },
  {
   "cell_type": "code",
   "execution_count": 196,
   "id": "799b00d3-a16a-4fdb-8152-cebf527aa4e6",
   "metadata": {},
   "outputs": [],
   "source": [
    "lrs = []\n",
    "coefs = []\n",
    "xcols = ['Month','DayofMonth','DayOfWeek','Hour','Distance','CarrierDelayRate','AirportDelayRate'] * 10\n",
    "years = [year for year in range(1995, 2005) for var in range(7)]\n",
    "\n",
    "for year in range(1995,2005):\n",
    "    lr, coef = LogReg(data[data['Year']==year])\n",
    "    coefs.extend(coef)\n",
    "    lrs.append(lr)"
   ]
  },
  {
   "cell_type": "code",
   "execution_count": 197,
   "id": "1d4e9c3b-088e-4547-aa01-c45dfd2b4049",
   "metadata": {},
   "outputs": [],
   "source": [
    "results = pd.DataFrame()\n",
    "results['Year'] = years\n",
    "results['Predictor'] = xcols\n",
    "results['Coef'] = coefs"
   ]
  },
  {
   "cell_type": "markdown",
   "id": "c7bb7d72-26c3-4718-b420-8663b607aa42",
   "metadata": {},
   "source": [
    "### Visualisation"
   ]
  },
  {
   "cell_type": "code",
   "execution_count": 274,
   "id": "c383e1c5-d891-488d-b109-6c6f1e46d83d",
   "metadata": {},
   "outputs": [
    {
     "name": "stderr",
     "output_type": "stream",
     "text": [
      "/var/folders/kz/gkr3vj392y93zt9m0pdb0cr40000gn/T/ipykernel_92359/3719116329.py:15: UserWarning: set_ticklabels() should only be used with a fixed number of ticks, i.e. after set_ticks() or using a FixedLocator.\n",
      "  ax.set_xticklabels(ax.get_xticklabels(), rotation=45, ha='right')\n",
      "/var/folders/kz/gkr3vj392y93zt9m0pdb0cr40000gn/T/ipykernel_92359/3719116329.py:15: UserWarning: set_ticklabels() should only be used with a fixed number of ticks, i.e. after set_ticks() or using a FixedLocator.\n",
      "  ax.set_xticklabels(ax.get_xticklabels(), rotation=45, ha='right')\n",
      "/var/folders/kz/gkr3vj392y93zt9m0pdb0cr40000gn/T/ipykernel_92359/3719116329.py:15: UserWarning: set_ticklabels() should only be used with a fixed number of ticks, i.e. after set_ticks() or using a FixedLocator.\n",
      "  ax.set_xticklabels(ax.get_xticklabels(), rotation=45, ha='right')\n",
      "/var/folders/kz/gkr3vj392y93zt9m0pdb0cr40000gn/T/ipykernel_92359/3719116329.py:15: UserWarning: set_ticklabels() should only be used with a fixed number of ticks, i.e. after set_ticks() or using a FixedLocator.\n",
      "  ax.set_xticklabels(ax.get_xticklabels(), rotation=45, ha='right')\n",
      "/var/folders/kz/gkr3vj392y93zt9m0pdb0cr40000gn/T/ipykernel_92359/3719116329.py:15: UserWarning: set_ticklabels() should only be used with a fixed number of ticks, i.e. after set_ticks() or using a FixedLocator.\n",
      "  ax.set_xticklabels(ax.get_xticklabels(), rotation=45, ha='right')\n"
     ]
    },
    {
     "data": {
      "text/plain": [
       "<Figure size 1600x400 with 0 Axes>"
      ]
     },
     "metadata": {},
     "output_type": "display_data"
    },
    {
     "data": {
      "image/png": "[encoded data removed]",
      "text/plain": [
       "<Figure size 1515.56x600 with 10 Axes>"
      ]
     },
     "metadata": {},
     "output_type": "display_data"
    },
    {
     "name": "stdout",
     "output_type": "stream",
     "text": [
      "{'Month': 'blue', 'DayofMonth': 'green', 'DayOfWeek': 'orange', 'Hour': 'red', 'Distance': 'purple', 'CarrierDelayRate': 'yellow', 'AirportDelayRate': 'grey'}\n"
     ]
    }
   ],
   "source": [
    "palette = {'Month': 'blue', 'DayofMonth': 'green', 'DayOfWeek': 'orange', 'Hour': 'red',\n",
    "           'Distance': 'purple', 'CarrierDelayRate': 'yellow', 'AirportDelayRate': 'grey'}\n",
    "\n",
    "plt.figure(figsize=(16, 4))\n",
    "\n",
    "g = sns.FacetGrid(results, col='Year', col_wrap=5)\n",
    "g.map_dataframe(sns.barplot, x='Predictor', y='Coef',hue='Predictor', palette=palette)\n",
    "g.add_legend()\n",
    "\n",
    "plt.xlabel('Coefficient')\n",
    "plt.ylabel('Predictors')\n",
    "\n",
    "for ax in g.axes.flat:\n",
    "    ax.tick_params(axis='x', labelsize=12)\n",
    "    ax.set_xticklabels(ax.get_xticklabels(), rotation=45, ha='right')\n",
    "\n",
    "plt.suptitle(\"Logistic Regression Predictor Coefficients\")\n",
    "plt.tight_layout()\n",
    "plt.show()\n",
    "print(palette)"
   ]
  },
  {
   "cell_type": "markdown",
   "id": "652c4491-5980-4b51-8e6c-1cbc611c5efa",
   "metadata": {},
   "source": [
    "##### Confusion Matrix"
   ]
  },
  {
   "cell_type": "code",
   "execution_count": 36,
   "id": "aa1349fb-2801-49d5-a9ab-b72c4aa6015a",
   "metadata": {},
   "outputs": [],
   "source": [
    "#target variable and predictors\n",
    "y = data['Diverted']\n",
    "X = data.drop(['Diverted','Year'], axis = 1)\n",
    "\n",
    "#normalising data\n",
    "scaler = StandardScaler()\n",
    "X_scaled = scaler.fit_transform(X)\n",
    "\n",
    "#split data\n",
    "X_train, X_test, y_train, y_test = train_test_split(X_scaled, y, test_size=0.20, random_state=1)\n",
    "\n",
    "#train model\n",
    "lr = LogisticRegression(class_weight='balanced', random_state=1)\n",
    "lr.fit(X_train, y_train)\n",
    "y_predictions = lr.predict(X_test)"
   ]
  },
  {
   "cell_type": "code",
   "execution_count": 43,
   "id": "94b263cc-0bd7-44bd-85fe-47366975ad1f",
   "metadata": {},
   "outputs": [
    {
     "data": {
      "image/png": "[encoded data removed]",
      "text/plain": [
       "<Figure size 800x600 with 2 Axes>"
      ]
     },
     "metadata": {},
     "output_type": "display_data"
    },
    {
     "name": "stdout",
     "output_type": "stream",
     "text": [
      "              precision    recall  f1-score   support\n",
      "\n",
      "           0       1.00      0.67      0.80  11216749\n",
      "           1       0.00      0.50      0.01     24825\n",
      "\n",
      "    accuracy                           0.67  11241574\n",
      "   macro avg       0.50      0.59      0.41  11241574\n",
      "weighted avg       1.00      0.67      0.80  11241574\n",
      "\n"
     ]
    }
   ],
   "source": [
    "cm = confusion_matrix(y_test, y_predictions)\n",
    "\n",
    "plt.figure(figsize=(8, 6))\n",
    "sns.heatmap(cm, annot=True, fmt='d', cmap='YlGn', xticklabels=['Predicted 0', 'Predicted 1'], yticklabels=['Actual 0', 'Actual 1'])\n",
    "plt.xlabel('Predicted')\n",
    "plt.ylabel('Actual')\n",
    "plt.title('Confusion Matrix')\n",
    "\n",
    "plt.show()\n",
    "\n",
    "print(classification_report(y_test,y_predictions))"
   ]
  },
  {
   "cell_type": "code",
   "execution_count": 55,
   "id": "5af14622-9f16-4ae7-bdba-86a19128fa0c",
   "metadata": {},
   "outputs": [
    {
     "data": {
      "image/png": "[encoded data removed]",
      "text/plain": [
       "<Figure size 800x600 with 1 Axes>"
      ]
     },
     "metadata": {},
     "output_type": "display_data"
    }
   ],
   "source": [
    "y_proba = lr.predict_proba(X_train)\n",
    "\n",
    "# Extract probabilities for the positive class (assuming binary classification)\n",
    "y_proba_positive = y_proba[:, 1]\n",
    "\n",
    "# Plot the distribution\n",
    "plt.figure(figsize=(8, 6))\n",
    "sns.histplot(y_proba_positive, kde=True, bins=10)\n",
    "plt.xlabel('Predicted Probability of Positive Class')\n",
    "plt.ylabel('Frequency')\n",
    "plt.title('Distribution of Predicted Probabilities')\n",
    "plt.show()"
   ]
  },
  {
   "cell_type": "code",
   "execution_count": 39,
   "id": "f1863a64-c777-48a5-b2e6-77f9ef8a90c0",
   "metadata": {},
   "outputs": [
    {
     "name": "stderr",
     "output_type": "stream",
     "text": [
      "/Users/shuayb/opt/anaconda3/lib/python3.10/site-packages/sklearn/metrics/_classification.py:1531: UndefinedMetricWarning: Precision is ill-defined and being set to 0.0 in labels with no predicted samples. Use `zero_division` parameter to control this behavior.\n",
      "  _warn_prf(average, modifier, f\"{metric.capitalize()} is\", len(result))\n"
     ]
    },
    {
     "name": "stdout",
     "output_type": "stream",
     "text": [
      "              precision    recall  f1-score   support\n",
      "\n",
      "           0       1.00      1.00      1.00   1043846\n",
      "           1       0.00      0.00      0.00      2078\n",
      "\n",
      "    accuracy                           1.00   1045924\n",
      "   macro avg       0.50      0.50      0.50   1045924\n",
      "weighted avg       1.00      1.00      1.00   1045924\n",
      "\n"
     ]
    },
    {
     "name": "stderr",
     "output_type": "stream",
     "text": [
      "/Users/shuayb/opt/anaconda3/lib/python3.10/site-packages/sklearn/metrics/_classification.py:1531: UndefinedMetricWarning: Precision is ill-defined and being set to 0.0 in labels with no predicted samples. Use `zero_division` parameter to control this behavior.\n",
      "  _warn_prf(average, modifier, f\"{metric.capitalize()} is\", len(result))\n",
      "/Users/shuayb/opt/anaconda3/lib/python3.10/site-packages/sklearn/metrics/_classification.py:1531: UndefinedMetricWarning: Precision is ill-defined and being set to 0.0 in labels with no predicted samples. Use `zero_division` parameter to control this behavior.\n",
      "  _warn_prf(average, modifier, f\"{metric.capitalize()} is\", len(result))\n"
     ]
    }
   ],
   "source": [
    "print(classification_report(y_test,y_prediction))"
   ]
  },
  {
   "cell_type": "code",
   "execution_count": null,
   "id": "bf7e50c9-b646-485d-a358-8ed7dd016caa",
   "metadata": {},
   "outputs": [],
   "source": [
    "coefficients = lr.coef_[0]\n",
    "coefficients"
   ]
  },
  {
   "cell_type": "code",
   "execution_count": 51,
   "id": "6877a1c1-d922-414b-a5b3-331ef7d979aa",
   "metadata": {},
   "outputs": [
    {
     "data": {
      "text/plain": [
       "0.6592687422795538"
      ]
     },
     "execution_count": 51,
     "metadata": {},
     "output_type": "execute_result"
    }
   ],
   "source": [
    "accuracy = accuracy_score(y_test, y_prediction)\n",
    "accuracy"
   ]
  },
  {
   "cell_type": "code",
   "execution_count": null,
   "id": "2bc0fc0b-36f5-4bee-9907-62a8f8414fac",
   "metadata": {},
   "outputs": [],
   "source": [
    "# Get the feature coefficients\n",
    "coefficients = lr.coef_[0]\n",
    "\n",
    "# Print the coefficients\n",
    "for feature, coef in zip(X.columns, coefficients):\n",
    "    print(f\"{feature}: {coef}\")"
   ]
  }
 ],
 "metadata": {
  "kernelspec": {
   "display_name": "Python 3 (ipykernel)",
   "language": "python",
   "name": "python3"
  },
  "language_info": {
   "codemirror_mode": {
    "name": "ipython",
    "version": 3
   },
   "file_extension": ".py",
   "mimetype": "text/x-python",
   "name": "python",
   "nbconvert_exporter": "python",
   "pygments_lexer": "ipython3",
   "version": "3.10.14"
  }
 },
 "nbformat": 4,
 "nbformat_minor": 5
}
